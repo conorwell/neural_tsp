{
 "cells": [
  {
   "cell_type": "code",
   "execution_count": 40,
   "id": "924f8b8d-d9fd-44d7-8eae-683d5d3eff69",
   "metadata": {},
   "outputs": [],
   "source": [
    "import tsplib95\n",
    "import torch\n",
    "import time\n",
    "import matplotlib.pyplot as plt\n",
    "import seaborn as sns\n",
    "import torch.nn as nn\n",
    "import torch.optim as optim"
   ]
  },
  {
   "cell_type": "code",
   "execution_count": 41,
   "id": "f40b8638-5278-4ac2-b4a8-1f1bf07d20dd",
   "metadata": {},
   "outputs": [],
   "source": [
    "class StandardAntColonyOptimizer:\n",
    "    def __init__(self, num_nodes, distance_matrix, num_ants=10, alpha=1.0, beta=2.0, evaporation_rate=0.5, Q=100):\n",
    "        self.num_nodes = num_nodes\n",
    "        self.distance_matrix = distance_matrix\n",
    "        self.pheromone = np.ones((num_nodes, num_nodes))\n",
    "        self.num_ants = num_ants\n",
    "        self.alpha = alpha  # Pheromone importance\n",
    "        self.beta = beta    # Heuristic importance\n",
    "        self.evaporation_rate = evaporation_rate\n",
    "        self.Q = Q  # Pheromone deposit factor\n",
    "        self.best_distances_per_iteration = []  # Store best distances per iteration for comparison\n",
    "\n",
    "    def optimize(self, iterations):\n",
    "        best_distance = float('inf')\n",
    "        best_solution = None\n",
    "        for iteration in range(iterations):\n",
    "            solutions = []\n",
    "            distances = []\n",
    "            for ant in range(self.num_ants):\n",
    "                solution = self.construct_solution()  # Create solution for each ant\n",
    "                distance = self.calculate_total_distance(solution)\n",
    "                solutions.append(solution)\n",
    "                distances.append(distance)\n",
    "                if distance < best_distance:\n",
    "                    best_distance = distance\n",
    "                    best_solution = solution\n",
    "            self.update_pheromone(solutions, distances)\n",
    "            self.best_distances_per_iteration.append(best_distance)  \n",
    "            print(f\"Iteration {iteration+1}/{iterations}, Best Distance: {best_distance:.4f}\")\n",
    "        return best_solution, best_distance\n",
    "\n",
    "    def construct_solution(self):\n",
    "        solution = []\n",
    "        visited = set()\n",
    "        current_node = np.random.randint(0, self.num_nodes) \n",
    "        solution.append(current_node)\n",
    "        visited.add(current_node)\n",
    "        while len(visited) < self.num_nodes:  # Continue until all nodes are visited\n",
    "            probabilities = self.calculate_transition_probabilities(current_node, visited)\n",
    "            next_node = np.random.choice(range(self.num_nodes), p=probabilities)\n",
    "            solution.append(next_node)\n",
    "            visited.add(next_node)\n",
    "            current_node = next_node\n",
    "        return solution\n",
    "\n",
    "    def calculate_transition_probabilities(self, current_node, visited):\n",
    "        pheromone = self.pheromone[current_node]\n",
    "        heuristic = 1 / (self.distance_matrix[current_node] + 1e-6)  # Add a small value to avoid division by zero\n",
    "        heuristic[heuristic == np.inf] = 0  # In case of infinite distance, set heuristic to 0\n",
    "\n",
    "        # Calculate probabilities by combining pheromone and heuristic values\n",
    "        combined = (pheromone ** self.alpha) * (heuristic ** self.beta)\n",
    "        for node in visited:\n",
    "            combined[node] = 0  # Set probability of visited nodes to 0\n",
    "\n",
    "        total = np.sum(combined)\n",
    "        if total == 0:\n",
    "            probabilities = np.ones(self.num_nodes)\n",
    "            probabilities[list(visited)] = 0\n",
    "            probabilities /= np.sum(probabilities)\n",
    "        else:\n",
    "            probabilities = combined / total\n",
    "        return probabilities\n",
    "\n",
    "    def update_pheromone(self, solutions, distances):\n",
    "        self.pheromone *= (1 - self.evaporation_rate)  # Evaporation step\n",
    "        for solution, distance in zip(solutions, distances):\n",
    "            pheromone_contribution = self.Q / distance  # Higher pheromone contribution for better solutions\n",
    "            for i in range(len(solution) - 1):\n",
    "                from_node = solution[i]\n",
    "                to_node = solution[i + 1]\n",
    "                self.pheromone[from_node][to_node] += pheromone_contribution\n",
    "            # Complete the tour (return to the start)\n",
    "            self.pheromone[solution[-1]][solution[0]] += pheromone_contribution\n",
    "\n",
    "    def calculate_total_distance(self, solution):\n",
    "        distance = 0\n",
    "        for i in range(len(solution) - 1):\n",
    "            distance += self.distance_matrix[solution[i]][solution[i + 1]]\n",
    "        distance += self.distance_matrix[solution[-1]][solution[0]]  # Return to the starting node\n",
    "        return distance"
   ]
  },
  {
   "cell_type": "code",
   "execution_count": 37,
   "id": "678bc9df-053f-445c-aa5f-a3e704ebec2e",
   "metadata": {},
   "outputs": [],
   "source": [
    "def getData(technique, problem):\n",
    "    start = time.time()\n",
    "    \n",
    "    # runs the  problem with the technique \n",
    "    result = technique(problem.edge_matrix)\n",
    "    end = time.time()\n",
    "    \n",
    "    # gets the solution\n",
    "    returned_solution = result['sequence']\n",
    "    \n",
    "    #the time \n",
    "    runtime = end-start\n",
    "    \n",
    "    # memory\n",
    "    \"\"\"TODO: Check that memory actually works\"\"\"\n",
    "    memory = torch.cuda.memory_allocated(0)\n",
    "    print(memory)\n",
    "    \n",
    "    #function evalauations \n",
    "    func_evals = result['func_evals']\n",
    "    \n",
    "    #used parameters\n",
    "    params = result['parameters']\n",
    "\n",
    "    #find proximity to optimal solution\n",
    "    \"\"\"TODO: implement closeness function\"\"\"\n",
    "    closeness = torch.subtract(returned_solution, problem.solution)\n",
    "    closeness=torch.sum(torch.abs(closeness)).numpy()\n",
    "\n",
    "    return {'memory' : memory, 'closeness' : closeness, 'func_evals' : func_evals, 'runtime' : runtime}"
   ]
  },
  {
   "cell_type": "code",
   "execution_count": 35,
   "id": "08ff6497-62da-488a-acc3-44c0e981e4c9",
   "metadata": {},
   "outputs": [],
   "source": [
    "def generatePlots(results):\n",
    "    fig, ax = plt.subplots(nrows=1, ncols=3)\n",
    "\n",
    "    ax[0].scatter(results['memory'], results['closeness'])\n",
    "    ax[0].set_title('Memory vs. Performance')\n",
    "    ax[0].set_ylabel('Performance')\n",
    "    ax[0].set_xlabel('Memory')\n",
    "    \n",
    "    ax[1].scatter(results['func_evals'], results['closeness'])\n",
    "    ax[1].set_title('Distance Checks vs. Performance')\n",
    "    ax[1].set_ylabel('Performance')\n",
    "    ax[1].set_xlabel('Distance Checks')\n",
    "    \n",
    "    ax[2].scatter(results['runtime'], results['closeness'])\n",
    "    ax[2].set_title('Runtime vs. Performance')\n",
    "    ax[2].set_ylabel('Performance')\n",
    "    ax[2].set_xlabel('Runtime')\n",
    "\n",
    "    fig.suptitle('Stacked subplots in one direction')"
   ]
  },
  {
   "cell_type": "code",
   "execution_count": 39,
   "id": "fabc0070-96ac-4f1b-8e4b-9e6d6db8b0fc",
   "metadata": {},
   "outputs": [
    {
     "name": "stdout",
     "output_type": "stream",
     "text": [
      "0\n"
     ]
    },
    {
     "ename": "IndexError",
     "evalue": "list assignment index out of range",
     "output_type": "error",
     "traceback": [
      "\u001b[0;31m---------------------------------------------------------------------------\u001b[0m",
      "\u001b[0;31mIndexError\u001b[0m                                Traceback (most recent call last)",
      "Cell \u001b[0;32mIn[39], line 25\u001b[0m\n\u001b[1;32m     22\u001b[0m     figs\u001b[38;5;241m.\u001b[39mappend(generatePlots(results))\n\u001b[1;32m     24\u001b[0m fig \u001b[38;5;241m=\u001b[39m plt\u001b[38;5;241m.\u001b[39mfigure(figsize\u001b[38;5;241m=\u001b[39m(\u001b[38;5;241m10\u001b[39m, \u001b[38;5;241m7\u001b[39m))\n\u001b[0;32m---> 25\u001b[0m (figs[\u001b[38;5;241m0\u001b[39m], figs[\u001b[38;5;241m1\u001b[39m], figs[\u001b[38;5;241m2\u001b[39m]) \u001b[38;5;241m=\u001b[39m fig\u001b[38;5;241m.\u001b[39msubfigures(\u001b[38;5;241m3\u001b[39m, \u001b[38;5;241m1\u001b[39m)\n\u001b[1;32m     26\u001b[0m plt\u001b[38;5;241m.\u001b[39mshow()\n",
      "\u001b[0;31mIndexError\u001b[0m: list assignment index out of range"
     ]
    },
    {
     "data": {
      "image/png": "[encoded data removed]",
      "text/plain": [
       "<Figure size 640x480 with 3 Axes>"
      ]
     },
     "metadata": {},
     "output_type": "display_data"
    },
    {
     "data": {
      "text/plain": [
       "<Figure size 1000x700 with 0 Axes>"
      ]
     },
     "metadata": {},
     "output_type": "display_data"
    }
   ],
   "source": [
    "#collect techniques in an array\n",
    "techniques = [sortedTechnique]\n",
    "\n",
    "#collect problems in an array\n",
    "problems = [p1]\n",
    "\n",
    "# run each function on many problems to compare results\n",
    "for t in techniques:\n",
    "    figs = []\n",
    "    # run each problem on the technique\n",
    "    \n",
    "    for p in problems:\n",
    "        #take data and add to list for plotting purposes\n",
    "        results = {'memory' : [], 'runtime': [], 'func_evals': [], 'closeness': []}\n",
    "        r = getData(t,p)\n",
    "        results['memory'].append(r['memory'])\n",
    "        results['func_evals'].append(r['func_evals'])\n",
    "        results['runtime'].append(r['runtime'])\n",
    "        results['closeness'].append(r['closeness'])\n",
    "        \n",
    "    #for each function, generate a subfigure with each plot\n",
    "    figs.append(generatePlots(results))\n",
    "\n",
    "fig = plt.figure(figsize=(10, 7))\n",
    "(figs[0], figs[1], figs[2]) = fig.subfigures(3, 1)\n",
    "plt.show()"
   ]
  },
  {
   "cell_type": "code",
   "execution_count": 20,
   "id": "0fb7bf5f-e757-4e3d-ba21-2dc72703510d",
   "metadata": {},
   "outputs": [],
   "source": [
    "def sortedTechnique(e_matrix):\n",
    "    res = torch.tensor(range(e_matrix.shape[0]+1))\n",
    "    func_evals = 0\n",
    "    params = {}\n",
    "    return {'func_evals': func_evals, 'sequence': res, 'parameters':params}"
   ]
  },
  {
   "cell_type": "code",
   "execution_count": 11,
   "id": "691cd0cc-db4e-46b1-9ef9-28e1a29482f3",
   "metadata": {},
   "outputs": [],
   "source": [
    "class Problem:\n",
    "    \n",
    "    def __init__(self, edge_weights, solution):\n",
    "        self.edge_matrix = edge_weights\n",
    "        self.solution = solution\n",
    "\n",
    "\n",
    "weights = torch.tensor([[0, 10,15,20],\n",
    "                         [10,0,35,25],\n",
    "                         [15,35,0,30],\n",
    "                         [20,25,30,0]\n",
    "                         ])\n",
    "soln = torch.tensor([1,2,4,3,-1])\n",
    "\n",
    "p1 = Problem(weights, soln)"
   ]
  },
  {
   "cell_type": "code",
   "execution_count": null,
   "id": "c8ddb348-2c08-40e9-83a3-0395b0078a79",
   "metadata": {},
   "outputs": [],
   "source": []
  }
 ],
 "metadata": {
  "kernelspec": {
   "display_name": "Python 3 (ipykernel)",
   "language": "python",
   "name": "python3"
  },
  "language_info": {
   "codemirror_mode": {
    "name": "ipython",
    "version": 3
   },
   "file_extension": ".py",
   "mimetype": "text/x-python",
   "name": "python",
   "nbconvert_exporter": "python",
   "pygments_lexer": "ipython3",
   "version": "3.12.5"
  }
 },
 "nbformat": 4,
 "nbformat_minor": 5
}
