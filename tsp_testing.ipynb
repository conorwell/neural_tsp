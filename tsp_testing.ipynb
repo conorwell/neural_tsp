{
 "cells": [
  {
   "cell_type": "code",
   "execution_count": 1,
   "id": "9a3b43d7-b6dd-4609-a842-0aa2ff4bd567",
   "metadata": {},
   "outputs": [],
   "source": [
    "import tsp_data_util as tsp_data_util\n",
    "import tsplib95\n",
    "import torch\n",
    "import time\n",
    "import matplotlib.pyplot as plt\n",
    "import seaborn as sns\n",
    "import torch.nn as nn\n",
    "import torch.optim as optim\n",
    "import gc\n",
    "from pso import pso\n",
    "from aco import aco\n",
    "import os"
   ]
  },
  {
   "cell_type": "code",
   "execution_count": 2,
   "id": "c3f1b2e1-95c1-44f3-aea5-ef4fd05e8026",
   "metadata": {},
   "outputs": [],
   "source": [
    "def getData(technique, problem):\n",
    "    start = time.time()\n",
    "    \n",
    "    # runs the  problem with the technique \n",
    "    result = technique(problem.edge_weights)\n",
    "    end = time.time()\n",
    "    \n",
    "    # gets the solution\n",
    "    returned_solution = result['sequence']\n",
    "    \n",
    "    #the time \n",
    "    runtime = end-start\n",
    "    \n",
    "    # memory\n",
    "    \"\"\"TODO: Check that memory actually works\"\"\"\n",
    "    #memory = torch.cuda.memory_allocated(0)\n",
    "    memory = 0\n",
    "    \n",
    "    #function evalauations \n",
    "    func_evals = result['func_evals']\n",
    "    \n",
    "    #used parameters\n",
    "    params = result['parameters']\n",
    "\n",
    "    #find proximity to optimal solution\n",
    "    solution_distance = tsp_data_util.get_tour_length(problem.file, returned_solution)\n",
    "    approximation_ratio = solution_distance/problem.solution_length\n",
    "\n",
    "    return {'memory' : memory, 'closeness' : approximation_ratio, 'func_evals' : func_evals, 'runtime' : runtime}"
   ]
  },
  {
   "cell_type": "code",
   "execution_count": 3,
   "id": "b0ca8f9c-700f-400e-a33a-6941be1a541d",
   "metadata": {},
   "outputs": [],
   "source": [
    "def generatePlots(results):\n",
    "    fig, ax = plt.subplots(nrows=1, ncols=3)\n",
    "\n",
    "    ax[0].scatter(results['memory'], results['closeness'])\n",
    "    ax[0].set_title('Memory vs. AR')\n",
    "    ax[0].set_ylabel('Approximation Ratio')\n",
    "    ax[0].set_xlabel('Memory')\n",
    "    \n",
    "    ax[1].scatter(results['func_evals'], results['closeness'])\n",
    "    ax[1].set_title('Distance Checks vs. AR')\n",
    "    ax[1].set_ylabel('Approximation Ratio')\n",
    "    ax[1].set_xlabel('Distance Checks')\n",
    "    \n",
    "    ax[2].scatter(results['runtime'], results['closeness'])\n",
    "    ax[2].set_title('Runtime vs. AR')\n",
    "    ax[2].set_ylabel('Approximation Ratio')\n",
    "    ax[2].set_xlabel('Runtime')\n",
    "\n",
    "    fig.suptitle(results['technique'])\n",
    "    fig.tight_layout()"
   ]
  },
  {
   "cell_type": "code",
   "execution_count": 4,
   "id": "4c7e06cf-fdd3-432b-8d2a-45748009175a",
   "metadata": {},
   "outputs": [],
   "source": [
    "def sortedTechnique(e_matrix):\n",
    "    res = torch.tensor(range(1,e_matrix.shape[0]+1))\n",
    "    func_evals = 0\n",
    "    params = {}\n",
    "    return {'func_evals': func_evals, 'sequence': res, 'parameters':params}"
   ]
  },
  {
   "cell_type": "code",
   "execution_count": 5,
   "id": "3a74051a-3816-495a-9c54-276e4b49345e",
   "metadata": {},
   "outputs": [],
   "source": [
    "class Problem:\n",
    "    \n",
    "    def __init__(self, edge_weights, solution, solution_length, tspfile):\n",
    "        self.edge_weights = edge_weights\n",
    "        self.solution = solution\n",
    "        self.solution_length = solution_length\n",
    "        self.file = tspfile"
   ]
  },
  {
   "cell_type": "code",
   "execution_count": 6,
   "id": "d8d0f6f8-a0d7-4bf9-be17-4c620243f149",
   "metadata": {},
   "outputs": [
    {
     "name": "stdout",
     "output_type": "stream",
     "text": [
      "no solution tour file exists for:  heidelberg_TSP_small/brazil58.tsp  every tsp file has a opt tour length\n",
      "no solution tour file exists for:  heidelberg_TSP_small/gr21.tsp  every tsp file has a opt tour length\n",
      "no solution tour file exists for:  heidelberg_TSP_small/gr17.tsp  every tsp file has a opt tour length\n"
     ]
    },
    {
     "data": {
      "text/plain": [
       "[<__main__.Problem at 0x150dec050>,\n",
       " <__main__.Problem at 0x137c185f0>,\n",
       " <__main__.Problem at 0x150b1f560>,\n",
       " <__main__.Problem at 0x1320c2990>,\n",
       " <__main__.Problem at 0x135b6a270>,\n",
       " <__main__.Problem at 0x150b84560>,\n",
       " <__main__.Problem at 0x150dbf4d0>,\n",
       " <__main__.Problem at 0x150dbf8c0>,\n",
       " <__main__.Problem at 0x150dbf5c0>,\n",
       " <__main__.Problem at 0x150b733e0>]"
      ]
     },
     "execution_count": 6,
     "metadata": {},
     "output_type": "execute_result"
    }
   ],
   "source": [
    "def fill_problems(directory, n_problems = None):\n",
    "    '''Fills a list of problem objects from the directory.\n",
    "    Not all problems have an optimal tour. All problems DO have an optimal length.\n",
    "    Regardless of if they have an optimal tour, they are placed in the problems list.\n",
    "    To compare tours, use the tour length and not the sequence.'''\n",
    "    problems = []\n",
    "    #get all the files in the directory\n",
    "    files = os.listdir(directory)\n",
    "\n",
    "    #set the n_problems to get\n",
    "    if n_problems is None or n_problems > len(files): \n",
    "        n_problems = len(files)\n",
    "        \n",
    "    i = 0\n",
    "    n = 0\n",
    "    while n < n_problems and i < len(files):\n",
    "    #for i in range(n_problems):\n",
    "        #print(files[i])\n",
    "\n",
    "        # check if it is a tsp file\n",
    "        if files[i].endswith('.tsp'):\n",
    "            #print('tsp file')\n",
    "            \n",
    "            tsp_file = os.path.join(directory, files[i])\n",
    "\n",
    "            weight_matrix = tsp_data_util.generate_edge_weight_matrix(tsp_file)\n",
    "            opt_solution_tour = []\n",
    "            opt_solution_length = 0\n",
    "\n",
    "            \n",
    "            #opt solution tour will be [] if one does not exist.\n",
    "            opt_solution_tour = tsp_data_util.get_optimal_tour(tsp_file)\n",
    "            opt_solution_length = tsp_data_util.get_optimal_tour_length(tsp_file)\n",
    "            p = Problem(weight_matrix, opt_solution_tour, opt_solution_length, tsp_file)\n",
    "            problems.append(p)\n",
    "            n += 1\n",
    "        i += 1\n",
    "        #print(\"next\")\n",
    "    return problems"
   ]
  },
  {
   "cell_type": "code",
   "execution_count": 7,
   "id": "878c4a29-6f3e-4e89-8bfb-7c3a47b0489f",
   "metadata": {},
   "outputs": [
    {
     "name": "stdout",
     "output_type": "stream",
     "text": [
      "no solution tour file exists for:  heidelberg_TSP_small/brazil58.tsp  every tsp file has a opt tour length\n",
      "no solution tour file exists for:  heidelberg_TSP_small/gr21.tsp  every tsp file has a opt tour length\n",
      "no solution tour file exists for:  heidelberg_TSP_small/gr17.tsp  every tsp file has a opt tour length\n"
     ]
    },
    {
     "data": {
      "image/png": "[encoded data removed]",
      "text/plain": [
       "<Figure size 640x480 with 3 Axes>"
      ]
     },
     "metadata": {},
     "output_type": "display_data"
    },
    {
     "data": {
      "text/plain": [
       "<Figure size 1000x700 with 0 Axes>"
      ]
     },
     "metadata": {},
     "output_type": "display_data"
    }
   ],
   "source": [
    "#collect techniques in an array\n",
    "techniques = [sortedTechnique]\n",
    "\n",
    "\n",
    "#problems = fill_problems(directory)\n",
    "#problems = [p1,p2]\n",
    "problems = fill_problems('heidelberg_TSP_small', 10)\n",
    "\n",
    "# run each function on many problems to compare results\n",
    "for t in techniques:\n",
    "    figs = []\n",
    "    # run each problem on the technique\n",
    "    results = {'memory' : [], 'runtime': [], 'func_evals': [], 'closeness': []}\n",
    "    for p in problems:\n",
    "        #take data and add to list for plotting purposes\n",
    "        r = getData(t,p)\n",
    "        results['memory'].append(r['memory'])\n",
    "        results['func_evals'].append(r['func_evals'])\n",
    "        results['runtime'].append(r['runtime'])\n",
    "        results['closeness'].append(r['closeness'])\n",
    "        \n",
    "    #for each function, generate a subfigure with each plot\n",
    "    results['technique'] = t\n",
    "    figs.append(generatePlots(results))\n",
    "\n",
    "fig = plt.figure(figsize=(10, 7))\n",
    "(figs[0]) = fig.subfigures(3, 1)\n",
    "plt.show()"
   ]
  },
  {
   "cell_type": "code",
   "execution_count": 8,
   "id": "ab6bfc83-6cbe-461f-8af3-0f56f0bdc0b7",
   "metadata": {},
   "outputs": [
    {
     "name": "stdout",
     "output_type": "stream",
     "text": [
      "Edge Weight Matrix:\n",
      "tensor([[  0., 577., 188.,  ..., 770., 270., 379.],\n",
      "        [577.,   0., 591.,  ..., 368., 607., 615.],\n",
      "        [188., 591.,   0.,  ..., 688.,  83., 194.],\n",
      "        ...,\n",
      "        [770., 368., 688.,  ...,   0., 657., 600.],\n",
      "        [270., 607.,  83.,  ..., 657.,   0., 113.],\n",
      "        [379., 615., 194.,  ..., 600., 113.,   0.]])\n",
      "tensor([  1,  98, 103,  82,  95, 107,   5, 100, 143,  97, 146,  26,  75,  18,\n",
      "        142,  85,  65, 132, 137,  50,  55,  58, 141,  83,  56,  90,  46,  92,\n",
      "         54, 138, 134, 131,  32,  23,  38,  67,  43, 109,  51,  20,  25, 110,\n",
      "         81,  29,  86, 135,  70, 108, 102, 114,  99,  19,   2,  37,   6,  28,\n",
      "          9,  42, 120,  47, 139,  40,  53, 118,  24,  12, 116, 101,  41,  57,\n",
      "         39, 127,  69,  36,  61,  11, 148, 130,  17,  66,  60, 140, 117, 129,\n",
      "         27,  31, 123,  74,  13, 106,  91, 119,  68, 128,  45,  71,  44,  64,\n",
      "        112, 136, 145, 144,  49, 147,  72,  80,  14, 122,  77, 133,  15,  78,\n",
      "         21, 150, 115,   4, 104,  22, 125, 149,  62,   3, 113,  10,  94,  88,\n",
      "        121,  79,  59,  16, 111, 105,  33, 126,  52,  93, 124,  35,  96,  89,\n",
      "          8,   7,  84,  30,  63,  48,  73,  76,  34,  87])\n",
      "6528\n"
     ]
    }
   ],
   "source": [
    "optimal_tour_distance = tsp_data_util.optimal_tour_distance\n",
    "tsp_file = 'heidelberg_TSP_data/ch150.tsp'  # coord matrix\n",
    "\n",
    "weight_matrix = tsp_data_util.generate_edge_weight_matrix(tsp_file)\n",
    "print(\"Edge Weight Matrix:\")\n",
    "print(weight_matrix)\n",
    "\n",
    "opt_solution_tour = tsp_data_util.get_optimal_tour(tsp_file)\n",
    "print(opt_solution_tour)\n",
    "\n",
    "opt_solution_length = tsp_data_util.get_tour_length(tsp_file, opt_solution_tour)\n",
    "print(opt_solution_length)\n",
    "\n",
    "p1 = Problem(weight_matrix, opt_solution_tour, opt_solution_length, tsp_file)\n",
    "\n",
    "\n",
    "tsp_file = 'heidelberg_TSP_data/a280.tsp'  # coord matrix\n",
    "weight_matrix = tsp_data_util.generate_edge_weight_matrix(tsp_file)\n",
    "opt_solution_tour = tsp_data_util.get_optimal_tour(tsp_file)\n",
    "opt_solution_length = tsp_data_util.get_tour_length(tsp_file, opt_solution_tour)\n",
    "\n",
    "p2 = Problem(weight_matrix, opt_solution_tour, opt_solution_length, tsp_file)"
   ]
  },
  {
   "cell_type": "markdown",
   "id": "9e5c929b-7663-4d05-a005-f233a7ab1e91",
   "metadata": {},
   "source": [
    "Issues with optimization functions:\n",
    "\n",
    "PSO: tensor path contains non-integer values\n",
    "ACO: computations use np array instead of tensors\n",
    "TABU: Returns list of cities, not dictionary with tensors"
   ]
  }
 ],
 "metadata": {
  "kernelspec": {
   "display_name": "Python 3 (ipykernel)",
   "language": "python",
   "name": "python3"
  },
  "language_info": {
   "codemirror_mode": {
    "name": "ipython",
    "version": 3
   },
   "file_extension": ".py",
   "mimetype": "text/x-python",
   "name": "python",
   "nbconvert_exporter": "python",
   "pygments_lexer": "ipython3",
   "version": "3.12.5"
  }
 },
 "nbformat": 4,
 "nbformat_minor": 5
}
